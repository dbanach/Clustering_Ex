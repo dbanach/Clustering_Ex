{
  "nbformat": 4,
  "nbformat_minor": 0,
  "metadata": {
    "kernelspec": {
      "display_name": "Python 3",
      "language": "python",
      "name": "python3"
    },
    "language_info": {
      "codemirror_mode": {
        "name": "ipython",
        "version": 3
      },
      "file_extension": ".py",
      "mimetype": "text/x-python",
      "name": "python",
      "nbconvert_exporter": "python",
      "pygments_lexer": "ipython3",
      "version": "3.7.6"
    },
    "colab": {
      "name": "K-means_exercise.ipynb",
      "provenance": []
    }
  },
  "cells": [
    {
      "cell_type": "markdown",
      "metadata": {
        "id": "pj_qEFjNtYru"
      },
      "source": [
        "# Unsupervised Exercise 1"
      ]
    },
    {
      "cell_type": "markdown",
      "metadata": {
        "id": "FOQPUyjDtYr2"
      },
      "source": [
        "## Implement k-Means clustering"
      ]
    },
    {
      "cell_type": "code",
      "metadata": {
        "id": "aC-6Sor5tYr3"
      },
      "source": [
        "import numpy as np \n",
        "from matplotlib import pyplot as plt"
      ],
      "execution_count": null,
      "outputs": []
    },
    {
      "cell_type": "markdown",
      "metadata": {
        "id": "RsO6pVZItYr3"
      },
      "source": [
        "### Preparation: Generate data to use for testing k-means clustering"
      ]
    },
    {
      "cell_type": "code",
      "metadata": {
        "id": "SIhoEs2MtYr4"
      },
      "source": [
        "# generate random data \n",
        "gt_1 = np.array([1,1])\n",
        "gt_2 = np.array([5,5])\n",
        "gt_3 = np.array([8,1])\n",
        "data_1 = np.random.randn(300,2) + gt_1\n",
        "data_2 = np.random.randn(300,2) + gt_2\n",
        "data_3 = np.random.randn(300,2) + gt_3\n",
        "data = np.concatenate((data_1, data_2, data_3),axis = 0)\n",
        "plt.scatter(data[:,0], data[:,1], s=7,c='b')"
      ],
      "execution_count": null,
      "outputs": []
    },
    {
      "cell_type": "markdown",
      "metadata": {
        "id": "a26yOTcJtYr4"
      },
      "source": [
        "### Question 1: Implement function `k_means` below to perform K Means clustering without using `sklearn`:"
      ]
    },
    {
      "cell_type": "code",
      "metadata": {
        "id": "qVQBqz1rtYr4"
      },
      "source": [
        "def k_means(data, k, centers):\n",
        "    \"\"\"\n",
        "    Perform clustering using K-means algorithm\n",
        "    :param data: observations\n",
        "    :param k: number of clusters to cluster into\n",
        "    :param centers: initial cluster centers\n",
        "    :return: tuple of:\n",
        "       1. Final cluster centers\n",
        "       2. Assignments - np.array with cluster number each observation is assigned to \n",
        "       3. WCSS value\n",
        "    \"\"\"\n",
        "    # your code here"
      ],
      "execution_count": null,
      "outputs": []
    },
    {
      "cell_type": "markdown",
      "metadata": {
        "id": "EDQZM64mtYr5"
      },
      "source": [
        "**Checking that your model works**:\n",
        "You can use Question 2a code below to test your code"
      ]
    },
    {
      "cell_type": "markdown",
      "metadata": {
        "id": "Bk7Mt8KttYr5"
      },
      "source": [
        "### Additional instructions:\n",
        "When implemeting the function, please make sure to:\n",
        "\n",
        "**1. Pay attention to your model's run time.**\n",
        "If your implementation is inefficient, if it will be very slow and will not work on a large number of observations, your model might be useless for real large data in production code.  \n",
        "Some signs of inefficient code:\n",
        "1. Usage of loops (especially loops per number of observations, a number that might be extremely big).\n",
        "2. Usage of a lot of data types and data structures conversions, expecially something that happens inside a loop.\n",
        "3. Growing data structures - appending 1 by 1 to a growing array\n",
        "\n",
        "Almost everything you can do with the above, you can do with Numpy arrays operations that work on the whole array at once.\n",
        "\n",
        "**2. Don't use higher level functions**\n",
        "\n",
        "Since this is an exercise where we would like to get our hands dirty and to feel what it's like to implement a model from scratch, use mostly built-in Numpy functions, don't use a higher level functions that do most of the work for us, like sklearn distance functions.\n",
        "\n",
        "**3. Make sure your WCSS calculation is correct**\n",
        "\n",
        "Consider comparing to `inertia_` parameter of real `sklearn.cluster.KMeans`"
      ]
    },
    {
      "cell_type": "markdown",
      "metadata": {
        "id": "edd7ipeNtYr5"
      },
      "source": [
        "### Question 2: Test your k-means function with the generated data"
      ]
    },
    {
      "cell_type": "code",
      "metadata": {
        "id": "kbv5HjiBtYr6"
      },
      "source": [
        "def cluster_and_plot(data, k):\n",
        "    # pick random centers to be initial cluster centers\n",
        "    initial_centers = data[np.random.randint(data.shape[0],size=k)]\n",
        "\n",
        "    # cluster with k-means\n",
        "    centers, assign, wcss = k_means(data, k, initial_centers)\n",
        "\n",
        "    print('New cluster centers:\\n', centers)\n",
        "\n",
        "    # plot the data-point and the new clusters\n",
        "    plt.scatter(data[:,0], data[:,1], s=7, c=assign)\n",
        "    plt.scatter(centers[:,0], centers[:,1], marker='^', c='r', s=80, label='Cluster centers');\n",
        "    plt.legend()\n",
        "    plt.title(f'Points clustered with k-means, k: {k}, colored by cluster, WCSS: {round(wcss, 2)}');"
      ],
      "execution_count": null,
      "outputs": []
    },
    {
      "cell_type": "markdown",
      "metadata": {
        "id": "PXcqGmz2tYr6"
      },
      "source": [
        "#### Questions:\n",
        "- **2a.** Using `cluster_and_plot` function above and your `k-means` function, cluster into 3 clusters and plot the `data` that was generated earlier\n",
        "- **2b.** Would you say that clustering is good?\n",
        "- **2c.** Now cluster into 4 clusters\n",
        "- **2d.** Compare the WCSS of clustering into 3 & 4 clusters.  What's your conclusion?\n",
        "- **2e.** Plot different k values and their WCSS values.  How many clusters would you classify into and why?"
      ]
    },
    {
      "cell_type": "code",
      "metadata": {
        "id": "j22dpZ6ItYr6"
      },
      "source": [
        "# your code here"
      ],
      "execution_count": null,
      "outputs": []
    },
    {
      "cell_type": "markdown",
      "metadata": {
        "id": "4ESDmOxZtYr7"
      },
      "source": [
        "### Question 3: Use your k-means function for image quantization"
      ]
    },
    {
      "cell_type": "markdown",
      "metadata": {
        "id": "t4Y0QsLGtYr7"
      },
      "source": [
        "**Question 3a.** Run the following code to perform image quantization on an image `flower.jpg`.  \n",
        "\n",
        "**Tip**: if the algorithm doesn't converge, or the image is not clear, check the data types of your Numpy arrays (which data type would you need for best precision?) "
      ]
    },
    {
      "cell_type": "code",
      "metadata": {
        "id": "icD6H5T0tYr7"
      },
      "source": [
        "from PIL import Image\n",
        "import scipy.misc\n",
        "\n",
        "def apply_clustering(im):\n",
        "    [width, height, color] = im.shape\n",
        "    out = np.zeros_like(im)\n",
        "    k = 3\n",
        "    # apply clustering on each color channel\n",
        "    for col_channel in range(color):\n",
        "        # prepare \n",
        "        channel_vals = im[:,:,col_channel].ravel()\n",
        "        data = np.expand_dims(channel_vals,1)\n",
        "\n",
        "        #prepare random centers and call K_means method\n",
        "        centers = data[np.random.randint(data.shape[0], size=k)]\n",
        "        centers, assign, wcss = k_means(data, k, centers)\n",
        "        print(f'WCSS channel {col_channel}: {int(wcss)}')\n",
        "        \n",
        "        #transform the colors in the image accirding to the clustering\n",
        "        for i in range(k):\n",
        "            channel_vals[assign == i] = centers[i]\n",
        "        gray = np.reshape(channel_vals, [width, height])\n",
        "        out[:,:,col_channel] = gray\n",
        "    return out\n",
        "\n",
        "# read image and apply clustering \n",
        "im1 = np.array(Image.open(\"flower.jpg\"))\n",
        "out1 = apply_clustering(im1)\n",
        "\n",
        "# show input vs output\n",
        "plt.figure(1,figsize=(8,16))\n",
        "plt.subplot(1,2,1);\n",
        "plt.imshow(im1);\n",
        "plt.subplot(1,2,2);\n",
        "plt.imshow(np.float32(out1)/255);"
      ],
      "execution_count": null,
      "outputs": []
    },
    {
      "cell_type": "markdown",
      "metadata": {
        "id": "ywf7HRG7tYr8"
      },
      "source": [
        "**Bonus Question 3b:** Approximately by what magnitute can the image size be reduced after clustering to the image?  Explain why."
      ]
    }
  ]
}